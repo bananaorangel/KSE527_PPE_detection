{
 "cells": [
  {
   "cell_type": "code",
   "execution_count": 2,
   "metadata": {},
   "outputs": [
    {
     "data": {
      "text/plain": [
       "'c:\\\\Users\\\\HFEL\\\\Desktop\\\\0531'"
      ]
     },
     "execution_count": 2,
     "metadata": {},
     "output_type": "execute_result"
    }
   ],
   "source": [
    "%pwd"
   ]
  },
  {
   "cell_type": "code",
   "execution_count": 2,
   "metadata": {},
   "outputs": [
    {
     "name": "stdout",
     "output_type": "stream",
     "text": [
      "c:\\Users\\HFEL\\Desktop\\0531\\yolov5\n"
     ]
    }
   ],
   "source": [
    "%cd yolov5"
   ]
  },
  {
   "cell_type": "code",
   "execution_count": 5,
   "metadata": {},
   "outputs": [],
   "source": [
    "import torch\n",
    "from IPython.display import Image, clear_output\n",
    "from glob import glob\n",
    "from sklearn.model_selection import train_test_split\n",
    "import yaml\n",
    "import os\n"
   ]
  },
  {
   "cell_type": "code",
   "execution_count": 5,
   "metadata": {},
   "outputs": [
    {
     "name": "stdout",
     "output_type": "stream",
     "text": [
      "c:\\Users\\HFEL\\Desktop\\0531\\yolov5\\harness\n"
     ]
    }
   ],
   "source": [
    "%cd harness"
   ]
  },
  {
   "cell_type": "code",
   "execution_count": 31,
   "metadata": {},
   "outputs": [
    {
     "name": "stdout",
     "output_type": "stream",
     "text": [
      "712\n"
     ]
    }
   ],
   "source": [
    "train_img_list = glob('./train/images/*.jpg')\n",
    "print(len(train_img_list))"
   ]
  },
  {
   "cell_type": "code",
   "execution_count": 32,
   "metadata": {},
   "outputs": [],
   "source": [
    "train_img_list, test_img_list = train_test_split(train_img_list, test_size=0.2, random_state=777)"
   ]
  },
  {
   "cell_type": "code",
   "execution_count": 33,
   "metadata": {},
   "outputs": [
    {
     "name": "stdout",
     "output_type": "stream",
     "text": [
      "569 143\n"
     ]
    }
   ],
   "source": [
    "print(len(train_img_list),len(test_img_list))"
   ]
  },
  {
   "cell_type": "code",
   "execution_count": 34,
   "metadata": {},
   "outputs": [],
   "source": [
    "test_img_list, valid_img_list = train_test_split(test_img_list, test_size=0.5, random_state=777)"
   ]
  },
  {
   "cell_type": "code",
   "execution_count": 35,
   "metadata": {},
   "outputs": [
    {
     "name": "stdout",
     "output_type": "stream",
     "text": [
      "71 72\n"
     ]
    }
   ],
   "source": [
    "print(len(test_img_list),len(valid_img_list))"
   ]
  },
  {
   "cell_type": "code",
   "execution_count": 36,
   "metadata": {},
   "outputs": [
    {
     "data": {
      "text/plain": [
       "'c:\\\\Users\\\\HFEL\\\\Desktop\\\\0531\\\\yolov5\\\\harness'"
      ]
     },
     "execution_count": 36,
     "metadata": {},
     "output_type": "execute_result"
    }
   ],
   "source": [
    "%pwd"
   ]
  },
  {
   "cell_type": "code",
   "execution_count": 38,
   "metadata": {},
   "outputs": [],
   "source": [
    "with open('./train.txt','w') as f:\n",
    "    f.write('\\n'.join(train_img_list) + '\\n')\n",
    "with open('./test.txt','w') as f:\n",
    "    f.write('\\n'.join(test_img_list) + '\\n')\n",
    "with open('./valid.txt','w') as f:\n",
    "    f.write('\\n'.join(valid_img_list) + '\\n')"
   ]
  },
  {
   "cell_type": "code",
   "execution_count": 39,
   "metadata": {},
   "outputs": [
    {
     "data": {
      "text/plain": [
       "'c:\\\\Users\\\\HFEL\\\\Desktop\\\\0531\\\\yolov5\\\\harness'"
      ]
     },
     "execution_count": 39,
     "metadata": {},
     "output_type": "execute_result"
    }
   ],
   "source": [
    "%pwd"
   ]
  },
  {
   "cell_type": "code",
   "execution_count": 4,
   "metadata": {},
   "outputs": [
    {
     "name": "stdout",
     "output_type": "stream",
     "text": [
      "c:\\Users\\HFEL\\Desktop\n"
     ]
    },
    {
     "data": {
      "text/plain": [
       "'c:\\\\Users\\\\HFEL\\\\Desktop'"
      ]
     },
     "execution_count": 4,
     "metadata": {},
     "output_type": "execute_result"
    }
   ],
   "source": [
    "%cd ..\n",
    "%pwd"
   ]
  },
  {
   "cell_type": "code",
   "execution_count": 4,
   "metadata": {},
   "outputs": [
    {
     "name": "stdout",
     "output_type": "stream",
     "text": [
      "W&B online, running your script from this directory will now sync to the cloud.\n"
     ]
    }
   ],
   "source": [
    "!wandb online"
   ]
  },
  {
   "cell_type": "code",
   "execution_count": 8,
   "metadata": {},
   "outputs": [],
   "source": [
    "os.environ['KMP_DUPLICATE_LIB_OK']='True'"
   ]
  },
  {
   "cell_type": "code",
   "execution_count": 11,
   "metadata": {},
   "outputs": [
    {
     "name": "stdout",
     "output_type": "stream",
     "text": [
      "c:\\Users\\HFEL\\Desktop\\0531\\yolov5\n"
     ]
    }
   ],
   "source": [
    "%cd yolov5"
   ]
  },
  {
   "cell_type": "code",
   "execution_count": 13,
   "metadata": {},
   "outputs": [],
   "source": [
    "#dir = c:\\Users\\HFEL\\Desktop\\0531\\yolov5\n",
    "python train.py --img 680 --batch 16 --epochs 600 --data ./harness/data.yaml --cfg ./models/custom_yolov5s.yaml --weights yolov5s.pt --name harness_results --cache"
   ]
  },
  {
   "cell_type": "code",
   "execution_count": null,
   "metadata": {},
   "outputs": [],
   "source": [
    "#yolov5m\n",
    "python train.py --img 680 --batch 8 --epochs 600 --data ./harness/data.yaml --cfg ./models/custom_yolov5m.yaml --weights yolov5m.pt --name harness_results_m --cache"
   ]
  },
  {
   "cell_type": "code",
   "execution_count": null,
   "metadata": {},
   "outputs": [],
   "source": [
    "#yolov5l\n",
    "python train.py --img 680 --batch 4 --epochs 600 --data ./harness/data.yaml --cfg ./models/custom_yolov5l.yaml --weights yolov5l.pt --name harness_results_l --cache"
   ]
  },
  {
   "cell_type": "code",
   "execution_count": null,
   "metadata": {},
   "outputs": [],
   "source": [
    "###valid\n",
    "python val.py --weights ./runs/train/harness_results/weights/best.pt --data ./harness/data.yaml --img 680 --iou 0.5 "
   ]
  },
  {
   "cell_type": "code",
   "execution_count": null,
   "metadata": {},
   "outputs": [],
   "source": [
    "#default conf = 0.001\n",
    "python val.py --weights ./runs/train/harness_results_l3/weights/best.pt --data ./harness/data.yaml --img 680 --task test\n"
   ]
  },
  {
   "cell_type": "code",
   "execution_count": null,
   "metadata": {},
   "outputs": [],
   "source": [
    "!python detect.py --weights ./runs/train/harness_results_l3/weights/best.pt --img 680 --conf 0.1 --source ./harness/test/images "
   ]
  },
  {
   "cell_type": "code",
   "execution_count": null,
   "metadata": {},
   "outputs": [],
   "source": [
    "python detect.py --weights ./runs/train/harness_results_l3/weights/best.pt --img 680 --conf 0.1 --source here.mp4"
   ]
  }
 ],
 "metadata": {
  "interpreter": {
   "hash": "07fa03b2ce7e1bc5284ab8d403fa45c7e7c16bb887c6d261ed555915c63d43e9"
  },
  "kernelspec": {
   "display_name": "Python 3.8.13 ('tfgpu')",
   "language": "python",
   "name": "python3"
  },
  "language_info": {
   "codemirror_mode": {
    "name": "ipython",
    "version": 3
   },
   "file_extension": ".py",
   "mimetype": "text/x-python",
   "name": "python",
   "nbconvert_exporter": "python",
   "pygments_lexer": "ipython3",
   "version": "3.8.13"
  },
  "orig_nbformat": 4
 },
 "nbformat": 4,
 "nbformat_minor": 2
}
